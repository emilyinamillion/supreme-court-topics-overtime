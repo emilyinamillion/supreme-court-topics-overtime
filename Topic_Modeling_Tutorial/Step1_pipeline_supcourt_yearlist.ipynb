{
 "cells": [
  {
   "cell_type": "code",
   "execution_count": 1,
   "metadata": {
    "collapsed": true
   },
   "outputs": [],
   "source": [
    "from bs4 import BeautifulSoup\n",
    "import requests\n",
    "import re\n",
    "\n",
    "import pandas as pd\n",
    "import numpy as np\n",
    "\n",
    "headers = {'User-Agent': 'Mozilla/5.0 (Macintosh; Intel Mac OS X 10_10_1) AppleWebKit/537.36 (KHTML, like Gecko) \\\n",
    "           Chrome/39.0.2171.95 Safari/537.36'}"
   ]
  },
  {
   "cell_type": "markdown",
   "metadata": {},
   "source": [
    "## Creating a list of Supreme Court Opinions and their URLs\n",
    "I found that caselaw has a repository of Supreme Court ruling opinions. This notebook contains the code I wrote to compile the list of these URLs and titles to use to grab the opinions.\n",
    "\n",
    "If you want the data I used for this project, you can start by running these cells. "
   ]
  },
  {
   "cell_type": "code",
   "execution_count": 2,
   "metadata": {
    "collapsed": true
   },
   "outputs": [],
   "source": [
    "root_url = \"http://caselaw.findlaw.com/court/us-supreme-court/years/\""
   ]
  },
  {
   "cell_type": "code",
   "execution_count": 3,
   "metadata": {
    "collapsed": false
   },
   "outputs": [],
   "source": [
    "years = [root_url + str(year) for year in range(1760,2018)]\n",
    "\n",
    "\n",
    "def Beautiful_soup_grabber(link):\n",
    "    response = requests.get(link, headers = headers)\n",
    "    return BeautifulSoup(response.text, \"lxml\")\n",
    "\n",
    "def year_getter(years):\n",
    "    \n",
    "    y = {}\n",
    "    for year in years:\n",
    "        soup = Beautiful_soup_grabber(year)\n",
    "        souplist = soup.findAll(\"a\")\n",
    "        for i in souplist:\n",
    "            if re.search(\"us-supreme-court\", str(i)) and not re.search(\"years\", str(i)) and not re.search(\"/court/\", str(i)):\n",
    "                b = i[\"href\"]\n",
    "                y[b] = [re.sub(\"[^0-9]\", \"\", b.split(\"/\")[-1])]\n",
    "    return pd.DataFrame(y).transpose().reset_index()"
   ]
  },
  {
   "cell_type": "code",
   "execution_count": 4,
   "metadata": {
    "collapsed": true
   },
   "outputs": [],
   "source": [
    "df = year_getter(years)\n",
    "df.columns = [\"case_url\", \"docket\"]"
   ]
  },
  {
   "cell_type": "code",
   "execution_count": 5,
   "metadata": {
    "collapsed": false
   },
   "outputs": [
    {
     "data": {
      "text/html": [
       "<div>\n",
       "<table border=\"1\" class=\"dataframe\">\n",
       "  <thead>\n",
       "    <tr style=\"text-align: right;\">\n",
       "      <th></th>\n",
       "      <th>case_url</th>\n",
       "      <th>docket</th>\n",
       "    </tr>\n",
       "  </thead>\n",
       "  <tbody>\n",
       "    <tr>\n",
       "      <th>0</th>\n",
       "      <td>http://caselaw.findlaw.com/us-supreme-court/05...</td>\n",
       "      <td>051101</td>\n",
       "    </tr>\n",
       "    <tr>\n",
       "      <th>1</th>\n",
       "      <td>http://caselaw.findlaw.com/us-supreme-court/06...</td>\n",
       "      <td>0611951</td>\n",
       "    </tr>\n",
       "    <tr>\n",
       "      <th>2</th>\n",
       "      <td>http://caselaw.findlaw.com/us-supreme-court/06...</td>\n",
       "      <td>06263</td>\n",
       "    </tr>\n",
       "    <tr>\n",
       "      <th>3</th>\n",
       "      <td>http://caselaw.findlaw.com/us-supreme-court/06...</td>\n",
       "      <td>065590</td>\n",
       "    </tr>\n",
       "    <tr>\n",
       "      <th>4</th>\n",
       "      <td>http://caselaw.findlaw.com/us-supreme-court/07...</td>\n",
       "      <td>071390</td>\n",
       "    </tr>\n",
       "  </tbody>\n",
       "</table>\n",
       "</div>"
      ],
      "text/plain": [
       "                                            case_url   docket\n",
       "0  http://caselaw.findlaw.com/us-supreme-court/05...   051101\n",
       "1  http://caselaw.findlaw.com/us-supreme-court/06...  0611951\n",
       "2  http://caselaw.findlaw.com/us-supreme-court/06...    06263\n",
       "3  http://caselaw.findlaw.com/us-supreme-court/06...   065590\n",
       "4  http://caselaw.findlaw.com/us-supreme-court/07...   071390"
      ]
     },
     "execution_count": 5,
     "metadata": {},
     "output_type": "execute_result"
    }
   ],
   "source": [
    "df.head(5)"
   ]
  },
  {
   "cell_type": "code",
   "execution_count": 8,
   "metadata": {
    "collapsed": false
   },
   "outputs": [
    {
     "data": {
      "text/plain": [
       "'http://caselaw.findlaw.com/us-supreme-court/05-1101.html'"
      ]
     },
     "execution_count": 8,
     "metadata": {},
     "output_type": "execute_result"
    }
   ],
   "source": [
    "df.ix[0, \"case_url\"]"
   ]
  },
  {
   "cell_type": "code",
   "execution_count": 10,
   "metadata": {
    "collapsed": true
   },
   "outputs": [],
   "source": [
    "df.to_pickle(\"supcourt_yearlist.pickle\")"
   ]
  },
  {
   "cell_type": "code",
   "execution_count": 9,
   "metadata": {
    "collapsed": false
   },
   "outputs": [
    {
     "data": {
      "text/plain": [
       "(23310, 2)"
      ]
     },
     "execution_count": 9,
     "metadata": {},
     "output_type": "execute_result"
    }
   ],
   "source": [
    "df.shape"
   ]
  },
  {
   "cell_type": "code",
   "execution_count": null,
   "metadata": {
    "collapsed": true
   },
   "outputs": [],
   "source": []
  }
 ],
 "metadata": {
  "kernelspec": {
   "display_name": "Python 3",
   "language": "python",
   "name": "python3"
  },
  "language_info": {
   "codemirror_mode": {
    "name": "ipython",
    "version": 3
   },
   "file_extension": ".py",
   "mimetype": "text/x-python",
   "name": "python",
   "nbconvert_exporter": "python",
   "pygments_lexer": "ipython3",
   "version": "3.5.2"
  }
 },
 "nbformat": 4,
 "nbformat_minor": 0
}
