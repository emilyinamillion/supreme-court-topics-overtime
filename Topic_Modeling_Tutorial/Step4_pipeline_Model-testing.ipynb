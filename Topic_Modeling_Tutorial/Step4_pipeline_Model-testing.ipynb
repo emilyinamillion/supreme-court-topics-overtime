{
 "cells": [
  {
   "cell_type": "markdown",
   "metadata": {},
   "source": [
    "# Topic Modeling with various methods\n",
    "Topic modeling is a powerful tool for quickly sorting through a lot of text and documents without having to read every one. There are several methods available for this using python, as well as several libraries. Topic modeling is extremely challenging to get meaningful results. \"Garbage in, garbage out\" is a phrase that applies well to this - we have to do a significant amount of text preprocessing to extract the right information to feed into a model. On this sheet, I will be topic modeling supreme court cases with the following:\n",
    "\n",
    "__SKlearn__\n",
    "\n",
    "LDA (with TF)\n",
    "\n",
    "NMF (with TFIDF)\n",
    "\n",
    "LSA - AKA TruncatedSVD (with TF and TFIDF)"
   ]
  },
  {
   "cell_type": "markdown",
   "metadata": {},
   "source": [
    "### Process of the ENTIRE project\n",
    "Extracting text using beautiful soup --> processing the text --> fitting text to a model --> applying model to other text"
   ]
  },
  {
   "cell_type": "code",
   "execution_count": 3,
   "metadata": {
    "collapsed": true
   },
   "outputs": [],
   "source": [
    "import pandas as pd\n",
    "import re\n",
    "from sklearn.feature_extraction.text import TfidfVectorizer, CountVectorizer, TfidfTransformer\n",
    "from sklearn.decomposition import NMF, LatentDirichletAllocation, TruncatedSVD\n",
    "from textblob import TextBlob\n",
    "from sklearn.preprocessing import Normalizer"
   ]
  },
  {
   "cell_type": "code",
   "execution_count": 25,
   "metadata": {
    "collapsed": false
   },
   "outputs": [],
   "source": [
    "doc_list.read_pickle(\"full_proj_lemmatized3.pickle\") #always save your work!"
   ]
  },
  {
   "cell_type": "code",
   "execution_count": 26,
   "metadata": {
    "collapsed": false
   },
   "outputs": [
    {
     "data": {
      "text/plain": [
       "(23268, 5)"
      ]
     },
     "execution_count": 26,
     "metadata": {},
     "output_type": "execute_result"
    }
   ],
   "source": [
    "doc_list.shape #checking to make sure we have the info we expected to have"
   ]
  },
  {
   "cell_type": "markdown",
   "metadata": {},
   "source": [
    "## _____________________________________________________________________\n",
    "## Model testing section\n",
    "I'm trying LDA, NMF and LSA as well as adjusting # of features, # topics, and overlap. "
   ]
  },
  {
   "cell_type": "code",
   "execution_count": 103,
   "metadata": {
    "collapsed": true
   },
   "outputs": [],
   "source": [
    "def print_top_words(model, feature_names, n_top_words):\n",
    "    for topic_idx, topic in enumerate(model.components_):\n",
    "        print(\"Topic #%d:\" % topic_idx)\n",
    "        print(\" \".join([feature_names[i]\n",
    "                        for i in topic.argsort()[:-n_top_words - 1:-1]]))\n",
    "    print()\n",
    "    \n",
    "    \n",
    "def modeler(corp, n_topics, n_top_words, clf, vect):\n",
    "    df = .80\n",
    "    str_vect = str(vect).split(\"(\")[0]\n",
    "    str_clf = str(clf).split(\"(\")[0]\n",
    "\n",
    "    print(\"Extracting {} features for {}...\".format(str_vect, str_clf))\n",
    "    vect_trans = vect.fit_transform(corp)\n",
    "\n",
    "\n",
    "    # Fit the model\n",
    "    print(\"Fitting the {} model with {} features, \"\n",
    "          \"n_topics= {}, n_topic_words= {}, n_features= {}...\"\n",
    "          .format(str_clf, str_vect, n_topics, n_top_words, n_features))\n",
    "\n",
    "    clf = clf.fit(vect_trans)\n",
    "    if str_clf == \"TruncatedSVD\":\n",
    "        print(\"\\nExplained variance ratio\", clf.explained_variance_ratio_)\n",
    "        \n",
    "    print(\"\\nTopics in {} model:\".format(str_clf))\n",
    "    feature_names = vect.get_feature_names()\n",
    "    return print_top_words(clf, feature_names, n_top_words) "
   ]
  },
  {
   "cell_type": "markdown",
   "metadata": {},
   "source": [
    "### NMF model\n",
    "Find two non-negative matrices (W, H) whose product approximates the non- negative matrix X. This factorization can be used for example for dimensionality reduction, source separation or topic extraction."
   ]
  },
  {
   "cell_type": "code",
   "execution_count": null,
   "metadata": {
    "collapsed": false,
    "scrolled": true
   },
   "outputs": [
    {
     "name": "stdout",
     "output_type": "stream",
     "text": [
      "Extracting tf-idf features for NMF...\n",
      "Fitting the NMF model with tf-idf features, n_topics= 30, n_topic_words= 30, n_features= 2000...\n",
      "\n",
      "Topics in NMF model:\n",
      "Topic #0:\n",
      "jurisdiction suit admiralty citizenship controversy bring question exclusive arise removal diversity proceeding original exercise jurisdictional complaint want stat dismiss appellate confer final merit constitution entertain remove allege section judgment venue\n",
      "Topic #1:\n",
      "dismiss curiam want whereon substantial report appellee question misc appellant assistant pd appellees jurisdiction improvidently sod solicitor probable frankfurter app note consideration decision mosk moot paxton brief reverse rhyne dispense\n",
      "Topic #2:\n",
      "respondent brief reverse judgment file assistant affirm solicitor curia urge footnote divide join improvidently amicus amici rehnquist equally complaint reversal jj curiam deliver usc app blackmun decision affirmance award conclude\n",
      "Topic #3:\n",
      "vacate remand pauperis forma curiam judgment ante proceed consideration leave assistant solicitor dissent misc report reason reverse moot reconsideration proceeding examination decision suggestion concur ninth record app mootness disposition entire\n",
      "Topic #4:\n",
      "bankruptcy bankrupt creditor debtor lien debt referee proceeding priority discharge adjudication insolvent preference asset payment file filing sub adjudge assignee section provable possession assignment claim month firm attachment account proceeds\n",
      "Topic #5:\n",
      "stay applicant pending execution injunction habeas merit issue disposition request mandate vacate relief decision vote judgment irreparable seek present denial final proceeding enter schedule consideration bail ninth rehnquist filing file\n",
      "Topic #6:\n",
      "sup rep stat messrs statute question error constitution decision inters make defendant subject cite deliver sustain like rev proposition true lrans lra assume kansa principle consider settle teleg word objection\n",
      "Topic #7:\n",
      "arrest habeas confession evidence conviction murder custody prisoner hearing seizure convict probable seize statement record interrogation charge suppress issue make guilty person proceeding obtain agent robbery alien tell suspect narcotic\n",
      "Topic #8:\n",
      "sentence death sentencing penalty murder punishment circumstance impose conviction aggravating imprisonment eighth convict offense mitigate cruel guilty dissent juror unusual mitigating phase execution prosecutor aggravate imposition habeas guideline fourteenth commit\n",
      "Topic #9:\n",
      "lease lessee lessor mineral premise covenant year tenant depletion operate owner leasehold possession landlord operation acre purchase agree agreement acquire purpose terminate remove payment condition execute approval allottee ton restriction\n",
      "Topic #10:\n",
      "appellant affirm appellees appellee supp assistant curiam judgment ginnane solicitor probable note brief threejudge messrs footnote fourteenth hummel loevinger statute fortas equally clause divide kestenbaum challenge consideration set intrastate operation\n",
      "Topic #11:\n",
      "employee employer bargaining relation wage worker unfair collective practice discharge engage strike bargain hour employ pay member injury collectivebargaining activity vii picketing overtime erisa picket seniority membership workmens hire contractor\n",
      "Topic #12:\n",
      "indictment count offense charge conspiracy guilty commit conviction jeopardy prosecution plea person violation convict indict accuse false sentence defraud imprisonment statute defendant intent try return quash conspire felony plead usc\n",
      "Topic #13:\n",
      "sct usca alr supra section statute question cf suit decision footnote cca messrs respondent fsupp seq present compare bring decedent judgment intrastate usc appellant finding anncas clause ledd sustain relation\n",
      "Topic #14:\n",
      "decree injunction enter suit final proceeding make file report interlocutory adjudge enjoin record cost dismiss pray hearing hear set mandate deed issue messrs restrain answer entry relief supplemental finding divorce\n",
      "Topic #15:\n",
      "ordinance track construct pass pole operate constitution erect foot privilege inhabitant charge limit regulate fourteenth maintain hydrant permit purpose impair impose furnish year main passage regulation person injunction confiscatory operation\n",
      "Topic #16:\n",
      "brief statute file regulation usc clause require decision member join requirement violate apply dissent challenge seek curia issue footnote violation discrimination question relief complaint urge activity statutory program conduct provide\n",
      "Topic #17:\n",
      "rehearing messrs leave file seventh decision examination rehear submit footnote consideration eighth banc forma pauperis ninth reason sct oct denial issue proceed fsupp timely cl enter extend mandate entry entertain\n",
      "Topic #18:\n",
      "treaty reservation allotment acre survey stat cede allot article heir deed member cession convey possession make allottee conveyance severalty occupy affair military allottees acquire reside apart selection settler occupancy settlement\n",
      "Topic #19:\n",
      "witness testimony evidence testify contempt subpoena privilege answer prosecution question record statement immunity selfincrimination juror make refuse hearing prosecutor examination report crossexamination proceeding ask finding information refusal objection appear charge\n",
      "Topic #20:\n",
      "error judgment affirm defendant question constitution record statute decision verdict messrs render assignment validity sup reverse exception proceeding final cost appellate present bring recover enter favor contention raise dismiss sustain\n",
      "Topic #21:\n",
      "shall section provide person statute make stat constitution article thereof purpose duty subject authorize pay pass follow prescribe year word declare approve require construct privilege regulation mile usca condition necessary\n",
      "Topic #22:\n",
      "child death wife father parent husband decedent widow heir divorce daughter marriage illegitimate executor deed deceased age survive probate dependent gift custody testator afdc mrs sister paternity devise woman year\n",
      "Topic #23:\n",
      "receiver stockholder appoint creditor asset appointment receivership possession insolvent lien debt shareholder suit payment pay money note make foreclosure account currency proceeds insolvency pray ancillary file liabilities collect indebtedness enforce\n",
      "Topic #24:\n",
      "agreement arbitration arbitrator dispute collectivebargaining bargaining arbitrate collective agree award strike breach antitrust settlement clause bind compel arise enter negotiation adjustment controversy contractual enforceable member procedure write interpretation negotiate contractor\n",
      "Topic #25:\n",
      "value pay year payment taxpayer net deduction profit return taxable assess loss dividend make receive account cost money gain expense asset purchase stockholder premium deduct valuation total collect note debt\n",
      "Topic #26:\n",
      "claim claimant suit judgment file location pay payment limitation possession make damage award settlement allege refund allow present decision entitle date recover war assert lien stat mineral owner prior contractor\n",
      "Topic #27:\n",
      "certificate issue certify convenience necessity question operation route applicant authorize stamp record broker deed abandonment payment make member require par purchase chinese cancel operate receive hearing propose indebtedness issuance pledge\n",
      "Topic #28:\n",
      "defendant make deed allege complaint answer suit possession agent plea file aver set bring thereof demurrer evidence removal allegation appear notice convey premise enter judgment follow purchase pay aforesaid statement\n",
      "Topic #29:\n",
      "damage injury negligence track loss verdict injure recover death admiralty award evidence foot liable owner recovery employer shipment shipper result lade switch tort duty collision seaman engineer negligent servant libel\n",
      "\n"
     ]
    }
   ],
   "source": [
    "modeler(doc_list.lem, 30, 30, NMF(n_components=30, random_state=1, alpha=.1, l1_ratio=.5), \\ \n",
    "                tfidf_vectorizer = TfidfVectorizer(\n",
    "            max_df=0.95,\n",
    "            min_df=min_df_val,  # Reduced from 5\n",
    "            stop_words='english',\n",
    "            ngram_range=(1, 1),\n",
    "            max_features=5000  # Limit features to avoid memory issues\n",
    "        ))  "
   ]
  },
  {
   "cell_type": "markdown",
   "metadata": {},
   "source": [
    "#### Notes about NMF performance \n",
    "Seeing these results makes me so happy - through several attempts of playing around with options for this model, this one has proved overwhelmingly good for the type of topic modeling I'm doing. I've done more reading about NMF and I think the methods behind it are what has lead to its awesome performance. Being able to use tf-idf I think is very important for this."
   ]
  },
  {
   "cell_type": "markdown",
   "metadata": {},
   "source": [
    "### Truncated SVD (LSA) Model\n",
    "This transformer performs linear dimensionality reduction by means of truncated singular value decomposition (SVD). It is very similar to PCA, but operates on sample vectors directly, instead of on a covariance matrix. This means it can work with scipy.sparse matrices efficiently.\n",
    "\n",
    "Notes: SVD suffers from a problem called “sign indeterminancy”, which means the sign of the components_ and the output from transform depend on the algorithm and random state. To work around this, fit instances of this class to data once, then keep the instance around to do transformations."
   ]
  },
  {
   "cell_type": "code",
   "execution_count": null,
   "metadata": {
    "collapsed": false
   },
   "outputs": [
    {
     "name": "stdout",
     "output_type": "stream",
     "text": [
      "Extracting tf-idf features for LSA...\n",
      "Fitting the LSA model with tf-idf features,n_samples=2000 and n_features=1000...\n",
      "\n",
      "Topics in LSA model:\n",
      "\n",
      "Explained variance ratio [ 0.00454438  0.04702202]\n",
      "Topic #0:\n",
      "defendant judgment dismiss make error shall sup respondent statute appellant claim question opinion issue section proceeding file curiam evidence remand\n",
      "Topic #1:\n",
      "dismiss curiam want appellant substantial appellees assistant whereon affirm appellee ginnane solicitor app vacate question judgment jurisdiction report hummel pd\n",
      "\n"
     ]
    }
   ],
   "source": [
    "modeler(doc_list.lem, 100, 30, TruncatedSVD(2, algorithm = 'arpack'), TfidfVectorizer(max_df=.8, min_df=2,stop_words='english'))  "
   ]
  },
  {
   "cell_type": "markdown",
   "metadata": {},
   "source": [
    "#### Notes about LSA performance\n",
    "A few attempts at tinkering with this algorithm did not improve its performance at all. The issues I'm finding with this are the same as the issues I found with LDA - it's good at pulling out the law themes, but that's not _really_ what I need. I really need the law terms to not play a role at all in modeling for these topics - we know that this entire corpus is about the law, but we need to know what KIND of law each case within the corpus is about. "
   ]
  },
  {
   "cell_type": "markdown",
   "metadata": {},
   "source": [
    "### Latent Dirchlet Allocation model \n",
    "In natural language processing, latent Dirichlet allocation (LDA) is a generative statistical model that allows sets of observations to be explained by unobserved groups that explain why some parts of the data are similar."
   ]
  },
  {
   "cell_type": "code",
   "execution_count": 36,
   "metadata": {
    "collapsed": false
   },
   "outputs": [
    {
     "name": "stdout",
     "output_type": "stream",
     "text": [
      "Extracting tf features for LDA...\n",
      "Fitting LDA models with tf features, n_samples and n_features=1000...\n",
      "\n",
      "Topics in LDA model:\n",
      "Topic #0:\n",
      "activity engage authorize acquire relate closely provide principally affirm brief hearing respondent affiliate language prohibit approval section statute determination record\n",
      "Topic #1:\n",
      "respondent statute evidence make opinion defendant sup shipper purpose file judgment notice provide child violate reverse deliver present claim appellee\n",
      "Topic #2:\n",
      "claim shall provide respondent injury pay manner defendant follow constitution suit make purpose proceeding ordinance yes pass regulation person effect\n",
      "Topic #3:\n",
      "shall make defendant statute purchase file section issue pay creditor provide appellant asset evidence require opinion purpose respondent determine resident\n",
      "Topic #4:\n",
      "defendant respondent make present judgment error amend exempt lease comment assistant suit render allege obtain premium affirm lawfully year duty\n",
      "Topic #5:\n",
      "charge tariff shipper respondent arrangement child dwell circumstance section citizenship sentence deliberation reach shall request furnish death claim pay decision\n",
      "Topic #6:\n",
      "defendant judgment make question error opinion proceeding file issue present dismiss claim sup suit evidence deliver affirm follow allege appellant\n",
      "Topic #7:\n",
      "jurisdiction claim sanction dissent immunity decision opinion statement respondent subject statute exemption reason file requirement procedure ante belief question brief\n",
      "Topic #8:\n",
      "file schedule notice hearing judgment lessee expense remand make prior opinion suit reverse appellee statute follow deliver proceeding value seek\n",
      "Topic #9:\n",
      "claim make statute shall issue section year provide person purpose defendant restriction subject authorize constitution permit period regulation appellee stat\n",
      "\n"
     ]
    }
   ],
   "source": [
    "modeler(doc_list.lem, 30, 30, LatentDirichletAllocation(n_topics=30, max_iter=5, learning_method='online', \\\n",
    "        learning_offset=50.,random_state=0), CountVectorizer(max_df=.80, min_df=2, \n",
    "                                                             stop_words='english'))"
   ]
  },
  {
   "cell_type": "code",
   "execution_count": 37,
   "metadata": {
    "collapsed": false
   },
   "outputs": [
    {
     "name": "stdout",
     "output_type": "stream",
     "text": [
      "Extracting tf features for LDA...\n",
      "Fitting LDA models with tf features, n_samples and n_features=2000...\n",
      "\n",
      "Topics in LDA model:\n",
      "Topic #0:\n",
      "defendant make judgment shall error evidence opinion issue purpose pay question proceeding respondent section statute provide suit present charge subject\n",
      "Topic #1:\n",
      "respondent death penalty tariff charge opinion shipper offender question defendant activity engage punishment evidence file execution arrangement comment authorize judgment\n",
      "Topic #2:\n",
      "opinion require make effect clause provide child affirm finding reimbursement religious violate voting number judgment result death deliver section program\n",
      "Topic #3:\n",
      "respondent statute file jurisdiction brief opinion appellee permit claim question authorize evidence deliver determine certificate issue counterclaim subject regulation judgment\n",
      "Topic #4:\n",
      "value shall damage cost make completion exceed date default erect pay respondent prior breach debt follow measure decision entitle lien\n",
      "Topic #5:\n",
      "abandonment statute statement immunity exemption provide make reason deed authorize belief opinion file decision abandon claim question section require evidence\n",
      "Topic #6:\n",
      "return relief child claim judgment proceeding question depletion file section suit seek statute make sup schedule cost continue entitle appellant\n",
      "Topic #7:\n",
      "claim make shall issue charge defendant question statute judgment follow creditor section appellant provide stat opinion person approve sup error\n",
      "Topic #8:\n",
      "dismiss entitlement appellant curiam question want allocation affirm purchase substantial assistant charge solicitor jurisdiction file brief appellees customer appellee confession\n",
      "Topic #9:\n",
      "account vacate make respondent remand agreement judgment pay dissent value deliver purchase dwell pauperis money half claim opinion error curiam\n",
      "\n"
     ]
    }
   ],
   "source": [
    "LDA_mod(doc_list.lem, .95, 2, 2000,10) #df is a way to extract 'meaningful text' in this case"
   ]
  },
  {
   "cell_type": "markdown",
   "metadata": {},
   "source": [
    "#### Notes about LDA model performance\n",
    "LDA was the first modeling type I tried, because it was the most frequently used in conversations about topic modeling. Initially I assumed that I would not have any other reasonable options, but LDA has proven ineffective for this project. I've done more reading about the differences between LDA and NMF, and LDA seems to be not so good at picking up subtle differences in a corpus about the same subject (as in, if I wanted to find the difference between Apple products and apple the fruit, LDA would probably work, but not if I need to find the difference between cases where the majority of the text is about the law). My suspicion is that this is because LDA can only use a count vectorizer rather than a tfidf, so this bag of words is a serious limitation to finding how these documents _relate_."
   ]
  }
 ],
 "metadata": {
  "anaconda-cloud": {},
  "kernelspec": {
   "display_name": "Python [default]",
   "language": "python",
   "name": "python3"
  },
  "language_info": {
   "codemirror_mode": {
    "name": "ipython",
    "version": 3
   },
   "file_extension": ".py",
   "mimetype": "text/x-python",
   "name": "python",
   "nbconvert_exporter": "python",
   "pygments_lexer": "ipython3",
   "version": "3.5.2"
  }
 },
 "nbformat": 4,
 "nbformat_minor": 0
}
